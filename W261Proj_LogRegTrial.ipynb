{
 "cells": [
  {
   "cell_type": "markdown",
   "metadata": {},
   "source": [
    "# Step 0. Initialization"
   ]
  },
  {
   "cell_type": "code",
   "execution_count": 1,
   "metadata": {},
   "outputs": [],
   "source": [
    "#Imports (uncomment / add more as needed)\n",
    "\n",
    "#import re\n",
    "#import ast\n",
    "import time\n",
    "import numpy as np\n",
    "import pandas as pd\n",
    "import seaborn as sns\n",
    "#import networkx as nx\n",
    "import matplotlib.pyplot as plt\n",
    "from scipy.special import expit\n",
    "from sklearn.metrics import classification_report, accuracy_score"
   ]
  },
  {
   "cell_type": "code",
   "execution_count": 2,
   "metadata": {},
   "outputs": [],
   "source": [
    "%reload_ext autoreload\n",
    "%autoreload 2"
   ]
  },
  {
   "cell_type": "code",
   "execution_count": 3,
   "metadata": {},
   "outputs": [
    {
     "data": {
      "text/plain": [
       "'/media/notebooks'"
      ]
     },
     "execution_count": 3,
     "metadata": {},
     "output_type": "execute_result"
    }
   ],
   "source": [
    "# store path to notebook\n",
    "PWD = !pwd\n",
    "PWD = PWD[0]\n",
    "PWD"
   ]
  },
  {
   "cell_type": "code",
   "execution_count": 4,
   "metadata": {},
   "outputs": [],
   "source": [
    "# start Spark Session\n",
    "from pyspark.sql import SparkSession\n",
    "app_name = \"final_proj_notebook\"\n",
    "master = \"local[*]\"\n",
    "spark = SparkSession\\\n",
    "        .builder\\\n",
    "        .appName(app_name)\\\n",
    "        .master(master)\\\n",
    "        .getOrCreate()\n",
    "sc = spark.sparkContext"
   ]
  },
  {
   "cell_type": "code",
   "execution_count": 5,
   "metadata": {},
   "outputs": [],
   "source": [
    "#General Parameters / Global Options\n",
    "np.set_printoptions(suppress=True)\n",
    "pd.options.display.float_format = '{:.4f}'.format"
   ]
  },
  {
   "cell_type": "markdown",
   "metadata": {},
   "source": [
    "# Step 1. Data Preparation\n",
    "Load, parse, sample, normalize, and deal with missing values."
   ]
  },
  {
   "cell_type": "code",
   "execution_count": 6,
   "metadata": {},
   "outputs": [],
   "source": [
    "#Column Labels\n",
    "colLabels = ['Label', 'I1', 'I2', 'I3', 'I4', 'I5', 'I6', 'I7', 'I8', \n",
    "             'I9', 'I10', 'I11', 'I12', 'I13', 'C1', 'C2', 'C3', 'C4', \n",
    "             'C5', 'C6', 'C7', 'C8', 'C9', 'C10', 'C11', 'C12', 'C13', \n",
    "             'C14', 'C15', 'C16', 'C17', 'C18', 'C19', 'C20', 'C21', \n",
    "             'C22', 'C23', 'C24', 'C25', 'C26']"
   ]
  },
  {
   "cell_type": "code",
   "execution_count": 8,
   "metadata": {},
   "outputs": [],
   "source": [
    "#Load data\n",
    "trainRDD = sc.textFile('data/train.txt')"
   ]
  },
  {
   "cell_type": "code",
   "execution_count": 9,
   "metadata": {},
   "outputs": [],
   "source": [
    "#Helper Functions\n",
    "def convertToInt(rowIn):\n",
    "    output = []\n",
    "    for j, item in enumerate(rowIn):\n",
    "        if item == '':\n",
    "            output.append(np.nan)\n",
    "        else:\n",
    "            if j < 14:\n",
    "                output.append(int(item)) \n",
    "            else:\n",
    "                output.append(item)\n",
    "    return output"
   ]
  },
  {
   "cell_type": "code",
   "execution_count": 10,
   "metadata": {},
   "outputs": [],
   "source": [
    "#Get sample, to make for faster testing\n",
    "#Note: .sample produces an inconsistent number of rows. It's similar, but not exaxtly the same every time.\n",
    "\n",
    "runSample = True\n",
    "#Usual sample: 0.0025\n",
    "if runSample:\n",
    "    trainRDD = trainRDD.sample(False, 0.0025)\n",
    "\n",
    "trainSampleRDD = trainRDD \\\n",
    "    .map(lambda x: (x.split('\\t'))) \\\n",
    "    .map(convertToInt) \\\n",
    "    .map(lambda x: (x[1:14], x[0])) \\\n",
    "    .cache()\n",
    "\n",
    "#Inspect. Should be ~115K rows at 0.0025, in form (I1-I13, Label)\n",
    "# sampleCount = trainSampleRDD.count()\n",
    "# print('Row Count:', sampleCount)\n",
    "# print('Sample:', trainSampleRDD.take(4))"
   ]
  },
  {
   "cell_type": "code",
   "execution_count": 11,
   "metadata": {},
   "outputs": [
    {
     "name": "stdout",
     "output_type": "stream",
     "text": [
      "Pos Count: 11745438\n",
      "Neg Count: 34095179\n"
     ]
    }
   ],
   "source": [
    "#Balance Classes\n",
    "#Don't forget to split train/test first!\n",
    "\n",
    "#Note it stacks the two RDDs, so it's all negative first, then all positive\n",
    "def balanceRDD(RDDIn, check=False):\n",
    "\n",
    "    #Count classes (filter)\n",
    "    posClassRDD = RDDIn.filter(lambda x: x[1]==1)\n",
    "    posCount = posClassRDD.count()\n",
    "    negCount = RDDIn.count() - posCount\n",
    "    print('Pos Count:', posCount)\n",
    "    print('Neg Count:', negCount)\n",
    "\n",
    "    negClassRDD = trainSampleRDD.filter(lambda x: x[1]==0).sample(False, posCount/negCount)\n",
    "    outputRDD = negClassRDD.union(posClassRDD)\n",
    "\n",
    "    #Math check. Set to False for full data as this is expensive\n",
    "    if check:\n",
    "        print('Check')\n",
    "        print('Pos Count:', outputRDD.filter(lambda x: x[1]==1).count())\n",
    "        print('Neg Count:', outputRDD.filter(lambda x: x[1]==0).count())\n",
    "        \n",
    "    return outputRDD\n",
    "        \n",
    "trainSampleBalRDD = balanceRDD(trainSampleRDD, False)"
   ]
  },
  {
   "cell_type": "code",
   "execution_count": 12,
   "metadata": {},
   "outputs": [],
   "source": [
    "def normalize(dataRDD):\n",
    "    \"\"\"\n",
    "    Scale and center data round mean of each feature.\n",
    "    Ignores np.nan elements\n",
    "    Args:\n",
    "        dataRDD - records are tuples of (features_array, y)\n",
    "    Returns:\n",
    "        normedRDD - records are tuples of (features_array, y)\n",
    "    \"\"\"\n",
    "    \n",
    "    featureMeans, featureStdev = [], []\n",
    "    for i, _ in enumerate(dataRDD.take(1)[0][0]):\n",
    "        values = dataRDD \\\n",
    "            .map(lambda x: x[0][i]) \\\n",
    "            .collect()\n",
    "        featureMeans.append(np.nanmean(values))\n",
    "        featureStdev.append(np.nanstd(values))\n",
    "        \n",
    "    featureMeansB = sc.broadcast(np.array(featureMeans))\n",
    "    featureStdevB = sc.broadcast(np.array(featureStdev))\n",
    "    \n",
    "    print('Means:', featureMeansB.value)\n",
    "    print('StDevs:', featureStdevB.value)\n",
    "    \n",
    "    normedRDD = dataRDD.map(lambda x: ( (x[0] - featureMeansB.value) / featureStdevB.value, x[1]) ) \\\n",
    "        .map(lambda x: (tuple(x[0]), x[1]))\n",
    "    \n",
    "    return normedRDD"
   ]
  },
  {
   "cell_type": "code",
   "execution_count": 13,
   "metadata": {},
   "outputs": [
    {
     "name": "stdout",
     "output_type": "stream",
     "text": [
      "cleanRDD Sample: [((2, 0, 1, 14, 767, 89, 4, 2, 245, 1, 3, 3, 45), 0), ((3, -1, 0, 0, 2, 0, 3, 0, 0, 1, 1, 0, 0), 0), ((0, 1, 2, 0, 3168, 0, 0, 1, 2, 0, 0, 0, 0), 0), ((0, 44, 4, 8, 19010, 249, 28, 31, 141, 0, 1, 0, 8), 0)]\n",
      "Means: [    2.33121935   115.55313147    23.03454163     5.47585998\n",
      " 15125.43013278    79.53255721    18.70428372    12.25743996\n",
      "   104.45763228     0.40070149     3.06701879     0.30856155\n",
      "     5.8156455 ]\n",
      "StDevs: [    7.93134509   417.28454322   436.52355297     8.0678134\n",
      " 60917.50009471   303.08252102    70.96073056    15.76858304\n",
      "   221.18996264     0.63977892     5.67636872     3.14805603\n",
      "    13.16015133]\n",
      "Sample: [((-0.0417608040711868, -0.27691687445267055, -0.05047732585802495, 1.0565613747159377, -0.2357028786548276, 0.03123717844460078, -0.20721719758659723, -0.6504985221800808, 0.6353921581342568, 0.9367274943395123, -0.011806630747232877, 0.854952522903319, 2.9775002964372317), 0), ((0.0843212146581048, -0.2793133207535268, -0.052768152992557334, -0.678729131645782, -0.2482608463785624, -0.26241222007944603, -0.2213094989501405, -0.7773330002695543, -0.4722530400128552, 0.9367274943395123, -0.36414456019106517, -0.09801653827120677, -0.4419132696193536), 0), ((-0.29392484152977, -0.27452042815181427, -0.048186498723492566, -0.678729131645782, -0.1962889172107919, -0.26241222007944603, -0.26358640304077025, -0.7139157612248175, -0.46321103839532773, -0.6263124318182279, -0.5403135249129813, -0.09801653827120677, -0.4419132696193536), 0), ((-0.29392484152977, -0.17147323721499594, -0.043604844454427805, 0.31286544341805783, 0.06376771635706048, 0.559146209499067, 0.1309980351384409, 1.1886014101172855, 0.16520807402282967, -0.6263124318182279, -0.36414456019106517, -0.09801653827120677, 0.1659824754573726), 0)]\n"
     ]
    }
   ],
   "source": [
    "#Assigning np.nan values\n",
    "\n",
    "#DoubleMax strategy might blow up gradient descent ... maybe we should normalize after ...\n",
    "\n",
    "#Helper Function\n",
    "def setNanTo(rowIn, maxValsIn, nanReplacementValue='zero'):\n",
    "    output = []\n",
    "    for i, item in enumerate(rowIn[0]):\n",
    "        if np.isnan(item):\n",
    "            if nanReplacementValue == 'doubleMax':\n",
    "                output.append(maxValsIn[i] * 2)\n",
    "            else:\n",
    "                output.append(0)\n",
    "        else:\n",
    "            output.append(item)\n",
    "    return (tuple(output), rowIn[1])\n",
    "\n",
    "#Get Max Values ... MEMORY ERROR\n",
    "maxVals = None\n",
    "# maxVals = np.nanmax( trainSampleBalRDD.map(lambda x: x[0]).collect(), axis=0 )\n",
    "# print('Max Values:', maxVals)\n",
    "\n",
    "#Handle nan's\n",
    "cleanRDD = trainSampleBalRDD.map(lambda x: setNanTo(x, maxVals, 'zero')).cache()\n",
    "print('cleanRDD Sample:', cleanRDD.take(4))\n",
    "\n",
    "#Normalize\n",
    "normedCleanRDD = normalize(cleanRDD).cache()\n",
    "#print('Row Count:', normedCleanRDD.count())\n",
    "print('Sample:', normedCleanRDD.take(4))"
   ]
  },
  {
   "cell_type": "code",
   "execution_count": 14,
   "metadata": {},
   "outputs": [],
   "source": [
    "#Verify normalization (should see all means = 0 and stdevs = 1)\n",
    "#An expensive test, but it works\n",
    "#Comment out for 'production' code\n",
    "\n",
    "# normedCleanRDD = normalize(normedCleanRDD).cache()"
   ]
  },
  {
   "cell_type": "markdown",
   "metadata": {},
   "source": [
    "# Step 2. Logistic Regression\n",
    "\n",
    "Now we have our data in good shape. Let's implement logistic regression."
   ]
  },
  {
   "cell_type": "code",
   "execution_count": 15,
   "metadata": {},
   "outputs": [],
   "source": [
    "#Test ... ultimately didn't use\n",
    "def sigmoid_grad(x):\n",
    "    ex = np.exp(-x)\n",
    "    y = ex / (1 + ex)**2\n",
    "    return y"
   ]
  },
  {
   "cell_type": "code",
   "execution_count": 16,
   "metadata": {},
   "outputs": [
    {
     "data": {
      "text/plain": [
       "array([0.23500371, 0.24026075, 0.0000454 , 0.19661193, 0.25      ,\n",
       "       0.19661193, 0.0000454 ])"
      ]
     },
     "execution_count": 16,
     "metadata": {},
     "output_type": "execute_result"
    }
   ],
   "source": [
    "#Test ... ultimately didn't use\n",
    "sigmoid_grad(np.array([.5, .4, -10, -1, 0, 1, 10]))"
   ]
  },
  {
   "cell_type": "code",
   "execution_count": 17,
   "metadata": {},
   "outputs": [],
   "source": [
    "#Not needed if nan uses 'zero' option (default)\n",
    "\n",
    "# print('Sample:', normedCleanRDD.take(4))\n",
    "# normedCleanRDD = normalize(normedCleanRDD).cache()\n",
    "# print('Sample:', normedCleanRDD.take(4))"
   ]
  },
  {
   "cell_type": "code",
   "execution_count": 18,
   "metadata": {},
   "outputs": [],
   "source": [
    "#Reference from HW4\n",
    "def OLSLoss(dataRDD, W):\n",
    "    \"\"\"\n",
    "    Compute mean squared error.\n",
    "    Args:\n",
    "        dataRDD - each record is a tuple of (features_array, y)\n",
    "        W       - (array) model coefficients with bias at index 0\n",
    "    \"\"\"\n",
    "    augmentedData = dataRDD.map(lambda x: (np.append([1.0], x[0]), x[1]))\n",
    "    ################## YOUR CODE HERE ##################    \n",
    "    loss = augmentedData.map(lambda x: ( (W.dot(x[0]) - x[1])**2) ).mean()\n",
    "    ################## (END) YOUR CODE ##################\n",
    "    return loss"
   ]
  },
  {
   "cell_type": "code",
   "execution_count": 19,
   "metadata": {},
   "outputs": [],
   "source": [
    "def predict(features, weightsIn):\n",
    "    return expit(np.dot(features, weightsIn))\n",
    "\n",
    "def logRegLoss(dataRDD, W):\n",
    "    \"\"\"\n",
    "    Compute mean squared error.\n",
    "    Args:\n",
    "        dataRDD - each record is a tuple of (features_array, y)\n",
    "        W       - (array) model coefficients with bias at index 0\n",
    "    \"\"\"\n",
    "    \n",
    "    def calcLoss(rowIn, WIn):\n",
    "        if rowIn[1] == 0:\n",
    "            output = -np.log(1-min(0.999999999999, predict(rowIn[0], WIn) ))\n",
    "        else:\n",
    "            output = -np.log(max(0.0000000000001, predict(rowIn[0], WIn)  ))\n",
    "            \n",
    "        return output\n",
    "    \n",
    "    #Add bias term\n",
    "    augmentedData = dataRDD.map(lambda x: (np.append([1.0], x[0]), x[1]))\n",
    "    \n",
    "    logLoss = augmentedData.map(lambda x: calcLoss(x, W) ).mean()\n",
    "    \n",
    "    #Alternate strategy\n",
    "    #logLoss = augmentedData.map(lambda x: ( (-x[1]*np.log(expit(W.dot(x[0])))) - ( (1-x[1]) * np.log(1-expit(W.dot(x[0]) ) ) ))).mean()\n",
    "    \n",
    "    #Form, for reference\n",
    "    #(-y * np.log(expit(pred))) - ( (1-y)*np.log(1-expit(pred)) )\n",
    "    \n",
    "    ### BUILD TOY MODEL TO ENSURE PROPER LOSS IS CALCULATED ###\n",
    "    \n",
    "    return logLoss"
   ]
  },
  {
   "cell_type": "code",
   "execution_count": 20,
   "metadata": {},
   "outputs": [
    {
     "name": "stdout",
     "output_type": "stream",
     "text": [
      "Baseline model OLS loss: 0.4999600089474395\n",
      "Baseline model LogReg loss: 0.6931471805599452\n"
     ]
    }
   ],
   "source": [
    "#Baseline model  ### NOTE VALUES ARE HARDCODED AND WILL NEED REPLACING! ###\n",
    "wInit = np.append(0.0, np.zeros(13))\n",
    "\n",
    "assert len(wInit) == len(normedCleanRDD.take(1)[0][0]) + 1, \"Double check model dimensions\"\n",
    "\n",
    "print('Baseline model OLS loss:', OLSLoss(normedCleanRDD, wInit))\n",
    "print('Baseline model LogReg loss:', logRegLoss(normedCleanRDD, wInit))"
   ]
  },
  {
   "cell_type": "code",
   "execution_count": 21,
   "metadata": {},
   "outputs": [],
   "source": [
    "def updateWeights(dataRDD, weightsIn, lrIn):\n",
    "    \n",
    "    augmentedData = dataRDD.map(lambda x: (np.append([1.0], x[0]), x[1])).cache()\n",
    "    #grad = augmentedData.map(lambda x: np.dot(expit(np.dot(weightsIn, x[0])), x[0] ) - x[1] ).mean()\n",
    "    grad = augmentedData.map(lambda x:  np.dot( x[0].T, predict(x[0], weightsIn) - x[1] )  ).mean()\n",
    "    newWeights = weightsIn - (lrIn * grad)\n",
    "    \n",
    "    return newWeights"
   ]
  },
  {
   "cell_type": "code",
   "execution_count": 22,
   "metadata": {},
   "outputs": [
    {
     "name": "stdout",
     "output_type": "stream",
     "text": [
      "weights: [0. 0. 0. 0. 0. 0. 0. 0. 0. 0. 0. 0. 0. 0.]\n",
      "Baseline model LogReg loss: 0.6931471805599452\n",
      "---------------\n",
      "ITERATION 0\n",
      "weights: [-0.00002     0.02699881  0.01194005  0.00227665 -0.01651274 -0.02464195\n",
      " -0.01798857  0.02222214 -0.00834909  0.00671709  0.05079834  0.04086097\n",
      "  0.01241957 -0.02422426]\n",
      "LogLoss: 0.6796589042162738\n",
      "---------------\n",
      "ITERATION 1\n",
      "weights: [ 0.00001134  0.04505797  0.02141821  0.00436531 -0.03080649 -0.04460891\n",
      " -0.0326381   0.03529931 -0.01673724  0.01031426  0.09065515  0.07090442\n",
      "  0.02178616 -0.0448825 ]\n",
      "LogLoss: 0.671574086589629\n",
      "---------------\n",
      "ITERATION 2\n",
      "weights: [ 0.00019185  0.05780365  0.02905708  0.00629901 -0.04299535 -0.06114957\n",
      " -0.04489619  0.04348473 -0.02490551  0.01225739  0.12290016  0.09426454\n",
      "  0.0292497  -0.06288505]\n",
      "LogLoss: 0.666288379370978\n",
      "---------------\n",
      "ITERATION 3\n",
      "weights: [ 0.00053882  0.06703318  0.03527974  0.00810192 -0.05325427 -0.07512111\n",
      " -0.05531199  0.04867641 -0.03260586  0.01331023  0.14957019  0.11317853\n",
      "  0.03542601 -0.07866473]\n",
      "LogLoss: 0.6626456634709283\n",
      "---------------\n",
      "ITERATION 4\n",
      "weights: [ 0.0010287   0.07376667  0.0403881   0.00978986 -0.06181005 -0.08710875\n",
      " -0.06426402  0.05185635 -0.039751    0.01386985  0.17197897  0.12893209\n",
      "  0.04067231 -0.09257931]\n",
      "LogLoss: 0.6600432188049623\n",
      "---------------\n",
      "ITERATION 5\n",
      "weights: [ 0.00162625  0.07864875  0.04460603  0.01137458 -0.06888883 -0.09752361\n",
      " -0.07202785  0.05360266 -0.04632893  0.0141541   0.1910307   0.1423317\n",
      "  0.04521453 -0.1049233 ]\n",
      "LogLoss: 0.6581329044242696\n",
      "---------------\n",
      "ITERATION 6\n",
      "weights: [ 0.00229644  0.0821168   0.0481042   0.01286552 -0.07469702 -0.10666367\n",
      " -0.07881119  0.05428634 -0.0523621   0.01428719  0.20737833  0.15391752\n",
      "  0.04920519 -0.11593843]\n",
      "LogLoss: 0.6566990749251784\n",
      "---------------\n",
      "ITERATION 7\n",
      "weights: [ 0.00300872  0.08448286  0.05101539  0.01427067 -0.07941609 -0.11475119\n",
      " -0.08477472  0.05416041 -0.05788778  0.01434167  0.22151055  0.1640695\n",
      "  0.05275234 -0.12582352]\n",
      "LogLoss: 0.655602065223773\n",
      "---------------\n",
      "ITERATION 8\n",
      "weights: [ 0.00373815  0.08597793  0.05344457  0.01559697 -0.08320285 -0.12195624\n",
      " -0.09004529  0.05340535 -0.06294839  0.01436026  0.23380327  0.17306508\n",
      "  0.05593543 -0.13474278]\n",
      "LogLoss: 0.6547481482164474\n",
      "---------------\n",
      "ITERATION 9\n",
      "weights: [ 0.00446516  0.0867779   0.05547575  0.01685054 -0.08619175 -0.12841183\n",
      " -0.0947248   0.05215443 -0.06758668  0.01436799  0.24455205  0.18111294\n",
      "  0.05881464 -0.14283259]\n",
      "LogLoss: 0.6540726755648306\n"
     ]
    }
   ],
   "source": [
    "#Execute!\n",
    "\n",
    "#Don't forget to un-hardcode weights\n",
    "lr = 0.5\n",
    "weights = np.append(0.0, np.zeros(13))\n",
    "numIter = 10\n",
    "print('weights:', weights)\n",
    "print('Baseline model LogReg loss:', logRegLoss(normedCleanRDD, weights))\n",
    "lossPerIter = []\n",
    "for i in range(numIter):\n",
    "    print('---------------')\n",
    "    print('ITERATION', i)\n",
    "    weights = updateWeights(normedCleanRDD, weights, lr)\n",
    "    print('weights:', weights)\n",
    "    lossPerIter.append((i+1, logRegLoss(normedCleanRDD, weights)))\n",
    "    print('LogLoss:', lossPerIter[i][1])"
   ]
  },
  {
   "cell_type": "code",
   "execution_count": 23,
   "metadata": {},
   "outputs": [
    {
     "data": {
      "text/plain": [
       "array([[ 1.        ,  0.6796589 ],\n",
       "       [ 2.        ,  0.67157409],\n",
       "       [ 3.        ,  0.66628838],\n",
       "       [ 4.        ,  0.66264566],\n",
       "       [ 5.        ,  0.66004322],\n",
       "       [ 6.        ,  0.6581329 ],\n",
       "       [ 7.        ,  0.65669907],\n",
       "       [ 8.        ,  0.65560207],\n",
       "       [ 9.        ,  0.65474815],\n",
       "       [10.        ,  0.65407268]])"
      ]
     },
     "execution_count": 23,
     "metadata": {},
     "output_type": "execute_result"
    }
   ],
   "source": [
    "np.array(lossPerIter)"
   ]
  },
  {
   "cell_type": "code",
   "execution_count": 24,
   "metadata": {},
   "outputs": [
    {
     "data": {
      "text/plain": [
       "Text(0,0.5,'Log Loss')"
      ]
     },
     "execution_count": 24,
     "metadata": {},
     "output_type": "execute_result"
    },
    {
     "data": {
      "image/png": "[encoded data removed]",
      "text/plain": [
       "<Figure size 432x288 with 1 Axes>"
      ]
     },
     "metadata": {},
     "output_type": "display_data"
    }
   ],
   "source": [
    "fig, ax = plt.subplots()\n",
    "sns.lineplot(x=np.array(lossPerIter)[:,0], y=np.array(lossPerIter)[:,1])\n",
    "ax.set_xlabel('Iteration')\n",
    "ax.set_ylabel('Log Loss')"
   ]
  },
  {
   "cell_type": "code",
   "execution_count": null,
   "metadata": {},
   "outputs": [],
   "source": []
  },
  {
   "cell_type": "code",
   "execution_count": 25,
   "metadata": {},
   "outputs": [
    {
     "name": "stdout",
     "output_type": "stream",
     "text": [
      "0.4539054332618361 -0.7898663994176731\n",
      "0.5903294361735367 -0.5270745315150593\n",
      "0.47643273340390185 -0.7414287339455792\n",
      "0.3919492590619146 -0.9366228887384909\n",
      "0.461572368800826 -0.7731164251968337\n",
      "0.44095878117518983 -0.818803874626503\n",
      "0.42975901313605797 -0.8445306619639878\n",
      "0.45040945173713 -0.7975982171700711\n",
      "0.43866498679525245 -0.8240192852664221\n",
      "0.467011285299529 -0.7614018560816046\n",
      "0.575193494362686 -0.5530487828571228\n",
      "0.6834819081472541 -0.3805550925945639\n",
      "0.5557197609163893 -0.5874911389247219\n",
      "0.46617514070769733 -0.7631938770375271\n",
      "0.5990500157110523 -0.5124101856696167\n",
      "0.4333364720036787 -0.8362407811414373\n",
      "0.38187039377610293 -0.9626740112537967\n",
      "0.5334148778844054 -0.6284557750765212\n",
      "0.46449668571019403 -0.766800855930892\n"
     ]
    }
   ],
   "source": [
    "#Test Individual Point\n",
    "for i in range(1,20):\n",
    "    sig = expit(np.dot(np.append([1.0], normedCleanRDD.take(i)[i-1][0]), weights))\n",
    "    #sig = expit(np.dot(np.append([1.0], np.zeros(13)), weights))\n",
    "    ans = np.log(sig)\n",
    "    print(sig, ans)"
   ]
  },
  {
   "cell_type": "code",
   "execution_count": 26,
   "metadata": {},
   "outputs": [
    {
     "data": {
      "text/plain": [
       "array([-4.60517019, -2.30258509,  0.        ,  2.30258509,  4.60517019])"
      ]
     },
     "execution_count": 26,
     "metadata": {},
     "output_type": "execute_result"
    }
   ],
   "source": [
    "np.log([0.01, 0.1, 1, 10, 100])"
   ]
  },
  {
   "cell_type": "code",
   "execution_count": null,
   "metadata": {},
   "outputs": [],
   "source": []
  },
  {
   "cell_type": "code",
   "execution_count": 27,
   "metadata": {},
   "outputs": [],
   "source": [
    "#Calc Accuracy"
   ]
  },
  {
   "cell_type": "code",
   "execution_count": null,
   "metadata": {},
   "outputs": [],
   "source": []
  },
  {
   "cell_type": "code",
   "execution_count": 28,
   "metadata": {},
   "outputs": [
    {
     "data": {
      "text/plain": [
       "array([ 0.00446516,  0.0867779 ,  0.05547575,  0.01685054, -0.08619175,\n",
       "       -0.12841183, -0.0947248 ,  0.05215443, -0.06758668,  0.01436799,\n",
       "        0.24455205,  0.18111294,  0.05881464, -0.14283259])"
      ]
     },
     "execution_count": 28,
     "metadata": {},
     "output_type": "execute_result"
    }
   ],
   "source": [
    "weights"
   ]
  },
  {
   "cell_type": "code",
   "execution_count": 29,
   "metadata": {},
   "outputs": [],
   "source": [
    "\"\"\"\n",
    "Interesting Results:\n",
    "lr = 0.3\n",
    "numIter = 10\n",
    "array([-0.21280418,  0.36476062,  0.6365257 ,  0.4934485 ,  0.38789249,\n",
    "        0.55882766,  0.3934802 ,  0.4926317 ,  0.76201547,  0.49301356,\n",
    "        0.36908828,  0.50579076,  0.53993099,  0.38659237])\n",
    "\t\t\n",
    "lr = 0.1\n",
    "numIter = 10\n",
    "array([0.18464049, 0.18501116, 0.23620699, 0.21078129, 0.19009155,\n",
    "       0.21532381, 0.18811173, 0.1955444 , 0.25281205, 0.19560761,\n",
    "       0.18576492, 0.19786945, 0.21667081, 0.18986972])\n",
    "\n",
    "lr = 0.1\n",
    "numIter = 30\n",
    "array([-0.1993091 ,  0.35552302,  0.62923536,  0.48420718,  0.377642  ,\n",
    "        0.55082399,  0.38288815,  0.48192053,  0.76074854,  0.48231122,\n",
    "        0.3599494 ,  0.4954125 ,  0.53131016,  0.37630401])\n",
    "        \n",
    "Notice 1. and 3. are nearly the same.\n",
    "\"\"\";"
   ]
  },
  {
   "cell_type": "code",
   "execution_count": 30,
   "metadata": {},
   "outputs": [
    {
     "name": "stdout",
     "output_type": "stream",
     "text": [
      "Pos Count: 11745438\n",
      "Neg Count: 11747317\n"
     ]
    }
   ],
   "source": [
    "#Verify Class Counts\n",
    "print('Pos Count:', normedCleanRDD.filter(lambda x: x[1]==1).count())\n",
    "print('Neg Count:', normedCleanRDD.filter(lambda x: x[1]==0).count())\n",
    "\n"
   ]
  },
  {
   "cell_type": "code",
   "execution_count": null,
   "metadata": {},
   "outputs": [],
   "source": []
  },
  {
   "cell_type": "code",
   "execution_count": 2,
   "metadata": {},
   "outputs": [
    {
     "ename": "NameError",
     "evalue": "name 'weights' is not defined",
     "output_type": "error",
     "traceback": [
      "\u001b[0;31m\u001b[0m",
      "\u001b[0;31mNameError\u001b[0mTraceback (most recent call last)",
      "\u001b[0;32m<ipython-input-2-36e676a2c62c>\u001b[0m in \u001b[0;36m<module>\u001b[0;34m()\u001b[0m\n\u001b[1;32m      4\u001b[0m \u001b[0;34m\u001b[0m\u001b[0m\n\u001b[1;32m      5\u001b[0m \u001b[0;31m#weightData = np.append(1.0, np.zeros(13))\u001b[0m\u001b[0;34m\u001b[0m\u001b[0;34m\u001b[0m\u001b[0m\n\u001b[0;32m----> 6\u001b[0;31m \u001b[0mweightData\u001b[0m \u001b[0;34m=\u001b[0m \u001b[0mweights\u001b[0m\u001b[0;34m\u001b[0m\u001b[0m\n\u001b[0m\u001b[1;32m      7\u001b[0m \u001b[0;34m\u001b[0m\u001b[0m\n\u001b[1;32m      8\u001b[0m \u001b[0maccData\u001b[0m \u001b[0;34m=\u001b[0m \u001b[0mnormedCleanRDD\u001b[0m     \u001b[0;34m.\u001b[0m\u001b[0mmap\u001b[0m\u001b[0;34m(\u001b[0m\u001b[0;32mlambda\u001b[0m \u001b[0mx\u001b[0m\u001b[0;34m:\u001b[0m \u001b[0;34m[\u001b[0m\u001b[0mnp\u001b[0m\u001b[0;34m.\u001b[0m\u001b[0mround\u001b[0m\u001b[0;34m(\u001b[0m\u001b[0mpredict\u001b[0m\u001b[0;34m(\u001b[0m\u001b[0mnp\u001b[0m\u001b[0;34m.\u001b[0m\u001b[0mappend\u001b[0m\u001b[0;34m(\u001b[0m\u001b[0;34m[\u001b[0m\u001b[0;36m1.0\u001b[0m\u001b[0;34m]\u001b[0m\u001b[0;34m,\u001b[0m \u001b[0mx\u001b[0m\u001b[0;34m[\u001b[0m\u001b[0;36m0\u001b[0m\u001b[0;34m]\u001b[0m\u001b[0;34m)\u001b[0m\u001b[0;34m,\u001b[0m \u001b[0mweightData\u001b[0m\u001b[0;34m)\u001b[0m\u001b[0;34m)\u001b[0m\u001b[0;34m,\u001b[0m \u001b[0mx\u001b[0m\u001b[0;34m[\u001b[0m\u001b[0;36m1\u001b[0m\u001b[0;34m]\u001b[0m \u001b[0;34m]\u001b[0m \u001b[0;34m)\u001b[0m     \u001b[0;34m.\u001b[0m\u001b[0mcollect\u001b[0m\u001b[0;34m(\u001b[0m\u001b[0;34m)\u001b[0m\u001b[0;34m\u001b[0m\u001b[0m\n",
      "\u001b[0;31mNameError\u001b[0m: name 'weights' is not defined"
     ]
    }
   ],
   "source": [
    "#Accuracy, Improved\n",
    "numRows = 1000\n",
    "#rowCount = normedCleanRDD.count()\n",
    "\n",
    "#weightData = np.append(1.0, np.zeros(13))\n",
    "weightData = weights\n",
    "\n",
    "accData = normedCleanRDD \\\n",
    "    .map(lambda x: [np.round(predict(np.append([1.0], x[0]), weightData)), x[1] ] ) \\\n",
    "    .collect()\n",
    "\n",
    "y_pred = np.array(accData)[:,0]\n",
    "y_true = np.array(accData)[:,1]\n",
    "print('Log Loss:', lossPerIter[-1][1])\n",
    "print('Accuracy:', accuracy_score(y_true, y_pred))\n",
    "print(classification_report(y_true, y_pred))"
   ]
  },
  {
   "cell_type": "code",
   "execution_count": 34,
   "metadata": {},
   "outputs": [
    {
     "ename": "NameError",
     "evalue": "name 'y_true' is not defined",
     "output_type": "error",
     "traceback": [
      "\u001b[0;31m\u001b[0m",
      "\u001b[0;31mNameError\u001b[0mTraceback (most recent call last)",
      "\u001b[0;32m<ipython-input-34-4255932177f7>\u001b[0m in \u001b[0;36m<module>\u001b[0;34m()\u001b[0m\n\u001b[0;32m----> 1\u001b[0;31m \u001b[0msum\u001b[0m\u001b[0;34m(\u001b[0m\u001b[0my_true\u001b[0m\u001b[0;34m)\u001b[0m\u001b[0;34m\u001b[0m\u001b[0m\n\u001b[0m",
      "\u001b[0;31mNameError\u001b[0m: name 'y_true' is not defined"
     ]
    }
   ],
   "source": [
    "sum(y_true)"
   ]
  },
  {
   "cell_type": "code",
   "execution_count": null,
   "metadata": {},
   "outputs": [],
   "source": [
    "sum(np.array(accData))\n",
    "print(np.sum(np.array(accData), axis=0))\n",
    "sum(np.array(accData)[:,0])"
   ]
  },
  {
   "cell_type": "code",
   "execution_count": null,
   "metadata": {},
   "outputs": [],
   "source": []
  },
  {
   "cell_type": "code",
   "execution_count": null,
   "metadata": {},
   "outputs": [],
   "source": []
  },
  {
   "cell_type": "code",
   "execution_count": null,
   "metadata": {},
   "outputs": [],
   "source": []
  },
  {
   "cell_type": "code",
   "execution_count": null,
   "metadata": {},
   "outputs": [],
   "source": []
  },
  {
   "cell_type": "code",
   "execution_count": 53,
   "metadata": {},
   "outputs": [
    {
     "name": "stdout",
     "output_type": "stream",
     "text": [
      "Output:  [ 731.05857863 1000.            0.          731.05857863]\n",
      "Accuracy:  0.0\n",
      "Output:  [ 622.4593312 1000.           0.         622.4593312]\n",
      "Accuracy:  0.0\n",
      "Output:  [500.   0.   0. 500.]\n",
      "Accuracy:  1.0\n",
      "Output:  [457.27003494 259.           0.         457.27003494]\n",
      "Accuracy:  0.741\n"
     ]
    },
    {
     "data": {
      "text/plain": [
       "''"
      ]
     },
     "execution_count": 53,
     "metadata": {},
     "output_type": "execute_result"
    }
   ],
   "source": [
    "#Absolute Loss (crude)\n",
    "numRows = 1000\n",
    "rowCount = normedCleanRDD.count()\n",
    "accData = normedCleanRDD.map(lambda x:  (predict(x0,weights), x[1]) )\n",
    "\n",
    "X = normedCleanRDD.map(lambda x: x[0]).take(numRows)\n",
    "Y = normedCleanRDD.map(lambda x: x[1]).take(numRows)\n",
    "\n",
    "def calcAcc(numRowsIn, XIn, YIn, WIn):\n",
    "    result = []\n",
    "\n",
    "    for i in range(numRowsIn):\n",
    "        x = expit(np.dot(WIn, np.append([1.0],  XIn[i]  )))\n",
    "        y = YIn[i]\n",
    "        result.append((x, np.round(x), y, abs(y-x)))\n",
    "    print('Output: ', np.sum(result, axis=0))\n",
    "    print('Accuracy: ', sum(1-abs(np.array(result)[:,1] - np.array(result)[:,2])) / numRowsIn  )\n",
    "    \n",
    "    return result\n",
    "    \n",
    "calcAcc(numRows, X, Y, np.append(1.0, np.zeros(13)))\n",
    "calcAcc(numRows, X, Y, np.append(0.5, np.zeros(13)))\n",
    "calcAcc(numRows, X, Y, np.append(0.0, np.zeros(13)))\n",
    "calcAcc(numRows, X, Y, weights)\n",
    ";\n",
    "#(sum of softmax predicted values (y_hat), sum of predictions (y_hat), \n",
    "#sum of actual values (y), sum of absolute difference between y_hat_soft and y)"
   ]
  },
  {
   "cell_type": "code",
   "execution_count": 25,
   "metadata": {},
   "outputs": [],
   "source": [
    "#Cell above:  (sum of softmax predicted values (x), sum of actual values (y), sum of absolute difference between the two)\n",
    "#Again, this is crude, but it gives a ballpark until I can fix Log Loss calc"
   ]
  },
  {
   "cell_type": "markdown",
   "metadata": {},
   "source": [
    "## 2.1 Fixing Log Loss Function"
   ]
  },
  {
   "cell_type": "code",
   "execution_count": 25,
   "metadata": {},
   "outputs": [
    {
     "name": "stdout",
     "output_type": "stream",
     "text": [
      "0 0.4206316304584733\n",
      "1 0.2682006500041653\n",
      "2 0.012829786502224893\n",
      "3 0.012829786502224893\n",
      "4 0.046827047318640146\n",
      "5 0.30912449124842406\n",
      "6 -4.256180974804324\n",
      "7 0.01649850120472889\n",
      "8 0.1718220771705769\n",
      "9 0.028280914115596276\n",
      "10 2.226593924996708\n",
      "11 1.3083214266560457\n",
      "12 -0.007519957978612399\n",
      "13 1.5273634006986285\n",
      "14 4.6840027089684675\n",
      "15 0.020910051369523633\n",
      "16 -1.6966498487475994\n",
      "17 -0.2444408399208692\n",
      "18 -0.450988788887679\n",
      "19 0.09057952356305739\n",
      "20 0.09751333061097117\n",
      "21 3.358644798610478\n",
      "22 0.09701840783660683\n",
      "23 0.35284565204830054\n",
      "24 6.495830180822665\n",
      "25 0.3347345939587952\n",
      "26 -0.010729634533885996\n",
      "27 0.18232224805538524\n",
      "28 0.11864626281942298\n",
      "29 -0.08593079050352137\n",
      "30 0.03901413456016986\n",
      "31 0.023740068115834182\n",
      "32 2.7048881197430834\n",
      "33 6.210141171901144\n",
      "34 0.8783983110386692\n",
      "35 -2.241323806428353\n",
      "36 0.05713989043160666\n",
      "37 0.04912253155525332\n",
      "38 4.597090912703127\n",
      "39 0.260575531746296\n",
      "40 -3.269790510000654\n",
      "41 -4.279982089848307\n",
      "42 0.023207568261676328\n",
      "43 0.017193306435268164\n",
      "44 0.11852729536071915\n",
      "45 2.84311021412036\n",
      "46 0.04780204943218941\n",
      "47 0.024449865491611374\n",
      "48 -1.712077433442368\n",
      "49 6.587862189828434\n"
     ]
    }
   ],
   "source": [
    "for i, rowIn in enumerate(normedCleanRDD.take(50)):\n",
    "    if i == i:\n",
    "#         print(np.append([1.0], rowIn[0]), weights)\n",
    "#         print('label:', rowIn[1])\n",
    "\n",
    "        if rowIn[1] == 0:\n",
    "            output = -np.log(1-min(0.999999, expit(weights.dot(np.append([1.0], rowIn[0])))))\n",
    "            #output = weights.dot(np.append([1.0], rowIn[0]))  #OKAY\n",
    "            #output = 1-min(0.999, expit(weights.dot(np.append([1.0], rowIn[0]))))\n",
    "        else:\n",
    "            output = np.log(expit(weights.dot(np.append([1.0], rowIn[0]))))\n",
    "        print(i, output)\n",
    "        #print(rowIn[0])"
   ]
  },
  {
   "cell_type": "code",
   "execution_count": 26,
   "metadata": {},
   "outputs": [
    {
     "name": "stdout",
     "output_type": "stream",
     "text": [
      "a: [0.         0.         0.         0.         0.         0.0000454\n",
      " 0.5        0.73105858 0.95257413 0.99330715 0.9999546  1.\n",
      " 1.         1.        ]\n",
      "[  0.           0.           0.           0.           0.\n",
      "  -0.0000454   -0.69314718  -1.31326169  -3.04858735  -5.00671535\n",
      " -10.0000454  -19.99999997         -inf         -inf]\n",
      "[         -inf -500.         -200.         -100.          -50.\n",
      "  -10.0000454    -0.69314718   -0.31326169   -0.04858735   -0.00671535\n",
      "   -0.0000454    -0.            0.            0.        ]\n",
      "0.0 0.0 0.0\n",
      "7.124576406741285e-218 0.0 0.0\n",
      "1.3838965267367376e-87 0.0 0.0\n",
      "3.7200759760208356e-44 0.0 0.0\n",
      "1.928749847963918e-22 0.0 0.0\n",
      "4.5397868702434395e-05 -4.539889921682063e-05 -4.539889921682063e-05\n",
      "0.5 -0.6931471805599453 -0.6931471805599453\n",
      "0.7310585786300049 -1.3132616875182228 -1.3132616875182228\n",
      "0.9525741268224334 -3.048587351573745 -3.048587351573745\n",
      "0.9933071490757153 -5.006715348489137 -5.006715348489137\n",
      "0.9999546021312976 -10.000045398900186 -10.000045398900186\n",
      "0.9999999979388463 -19.999999966169824 -19.999999966169824\n",
      "0.999999999 -inf -20.723265865228342\n",
      "0.999999999 -inf -20.723265865228342\n"
     ]
    },
    {
     "name": "stderr",
     "output_type": "stream",
     "text": [
      "/opt/anaconda/lib/python3.6/site-packages/ipykernel_launcher.py:5: RuntimeWarning: divide by zero encountered in log\n",
      "  \"\"\"\n",
      "/opt/anaconda/lib/python3.6/site-packages/ipykernel_launcher.py:6: RuntimeWarning: divide by zero encountered in log\n",
      "  \n",
      "/opt/anaconda/lib/python3.6/site-packages/ipykernel_launcher.py:10: RuntimeWarning: divide by zero encountered in log\n",
      "  # Remove the CWD from sys.path while we load stuff.\n"
     ]
    }
   ],
   "source": [
    "a = expit([-1000, -500, -200, -100, -50, -10, 0, 1, 3, 5, 10, 20, 40, 50])\n",
    "print('a:', a)\n",
    "\n",
    "#Broken\n",
    "print(np.log(1-a))\n",
    "print(np.log(a))\n",
    "\n",
    "for val in a:\n",
    "    newval = min(0.999999999, val)\n",
    "    print(newval, np.log(1-val), np.log(1-newval))"
   ]
  },
  {
   "cell_type": "code",
   "execution_count": 27,
   "metadata": {},
   "outputs": [
    {
     "name": "stderr",
     "output_type": "stream",
     "text": [
      "/opt/anaconda/lib/python3.6/site-packages/ipykernel_launcher.py:1: RuntimeWarning: divide by zero encountered in log\n",
      "  \"\"\"Entry point for launching an IPython kernel.\n"
     ]
    },
    {
     "data": {
      "text/plain": [
       "-inf"
      ]
     },
     "execution_count": 27,
     "metadata": {},
     "output_type": "execute_result"
    }
   ],
   "source": [
    "np.log(0)"
   ]
  },
  {
   "cell_type": "code",
   "execution_count": null,
   "metadata": {},
   "outputs": [],
   "source": []
  },
  {
   "cell_type": "code",
   "execution_count": null,
   "metadata": {},
   "outputs": [],
   "source": []
  },
  {
   "cell_type": "markdown",
   "metadata": {},
   "source": [
    "# Doodling"
   ]
  },
  {
   "cell_type": "code",
   "execution_count": 258,
   "metadata": {},
   "outputs": [
    {
     "data": {
      "text/plain": [
       "-10.000045398899218"
      ]
     },
     "execution_count": 258,
     "metadata": {},
     "output_type": "execute_result"
    }
   ],
   "source": [
    "np.log(expit(-414.28936167))\n",
    "np.log(expit(-10))"
   ]
  },
  {
   "cell_type": "code",
   "execution_count": 256,
   "metadata": {},
   "outputs": [
    {
     "data": {
      "text/plain": [
       "3.7200759760208356e-44"
      ]
     },
     "execution_count": 256,
     "metadata": {},
     "output_type": "execute_result"
    }
   ],
   "source": [
    "expit(-100)"
   ]
  },
  {
   "cell_type": "code",
   "execution_count": null,
   "metadata": {},
   "outputs": [],
   "source": []
  },
  {
   "cell_type": "code",
   "execution_count": null,
   "metadata": {},
   "outputs": [],
   "source": []
  },
  {
   "cell_type": "code",
   "execution_count": 177,
   "metadata": {},
   "outputs": [
    {
     "data": {
      "text/plain": [
       "0.0"
      ]
     },
     "execution_count": 177,
     "metadata": {},
     "output_type": "execute_result"
    }
   ],
   "source": [
    "np.log(1)"
   ]
  },
  {
   "cell_type": "code",
   "execution_count": 180,
   "metadata": {},
   "outputs": [
    {
     "data": {
      "text/plain": [
       "0.5621765008857981"
      ]
     },
     "execution_count": 180,
     "metadata": {},
     "output_type": "execute_result"
    }
   ],
   "source": [
    "#When y = 1\n",
    "expit(0.25)"
   ]
  },
  {
   "cell_type": "code",
   "execution_count": 181,
   "metadata": {},
   "outputs": [
    {
     "data": {
      "text/plain": [
       "0.679178699175393"
      ]
     },
     "execution_count": 181,
     "metadata": {},
     "output_type": "execute_result"
    }
   ],
   "source": [
    "expit(0.25)"
   ]
  },
  {
   "cell_type": "code",
   "execution_count": 182,
   "metadata": {},
   "outputs": [
    {
     "data": {
      "text/plain": [
       "0.7310585786300049"
      ]
     },
     "execution_count": 182,
     "metadata": {},
     "output_type": "execute_result"
    }
   ],
   "source": [
    "expit(1)"
   ]
  },
  {
   "cell_type": "code",
   "execution_count": 191,
   "metadata": {},
   "outputs": [
    {
     "name": "stdout",
     "output_type": "stream",
     "text": [
      "-10 4.539889921682063e-05\n",
      "-9 0.00012340218972322915\n",
      "-8 0.00033540637289577373\n",
      "-7 0.0009114664537742021\n",
      "-6 0.002475685137730443\n",
      "-5 0.006715348489118056\n",
      "-4 0.01814992791780973\n",
      "-3 0.04858735157374202\n",
      "-2 0.12692801104297252\n",
      "-1 0.3132616875182228\n",
      "0 0.6931471805599453\n",
      "1 1.3132616875182228\n",
      "2 2.1269280110429714\n",
      "3 3.048587351573745\n",
      "4 4.01814992791781\n",
      "5 5.006715348489137\n",
      "6 6.002475685137778\n",
      "7 7.000911466453821\n",
      "8 8.000335406373212\n",
      "9 9.000123402189065\n",
      "-10 10.000045398899218\n",
      "-9 9.000123402189724\n",
      "-8 8.000335406372896\n",
      "-7 7.000911466453775\n",
      "-6 6.00247568513773\n",
      "-5 5.006715348489118\n",
      "-4 4.0181499279178094\n",
      "-3 3.048587351573742\n",
      "-2 2.1269280110429727\n",
      "-1 1.3132616875182228\n",
      "0 0.6931471805599453\n",
      "1 0.3132616875182228\n",
      "2 0.12692801104297263\n",
      "3 0.04858735157374191\n",
      "4 0.01814992791780973\n",
      "5 0.006715348489117944\n",
      "6 0.0024756851377303315\n",
      "7 0.0009114664537742021\n",
      "8 0.00033540637289566265\n",
      "9 0.0001234021897233402\n"
     ]
    }
   ],
   "source": [
    "#y=0\n",
    "y=0\n",
    "for pred in range(-10,10):\n",
    "    print(pred, (-y * np.log(expit(pred))) - ( (1-y)*np.log(1-expit(pred)) ) )\n",
    "    \n",
    "y=1\n",
    "for pred in range(-10,10):\n",
    "    print(pred, (-y * np.log(expit(pred))) - ( (1-y)*np.log(1-expit(pred)) ) )"
   ]
  },
  {
   "cell_type": "code",
   "execution_count": 187,
   "metadata": {},
   "outputs": [
    {
     "data": {
      "text/plain": [
       "range(-20, 20)"
      ]
     },
     "execution_count": 187,
     "metadata": {},
     "output_type": "execute_result"
    }
   ],
   "source": [
    "range(-20,20)"
   ]
  },
  {
   "cell_type": "code",
   "execution_count": null,
   "metadata": {},
   "outputs": [],
   "source": []
  },
  {
   "cell_type": "code",
   "execution_count": null,
   "metadata": {},
   "outputs": [],
   "source": []
  },
  {
   "cell_type": "code",
   "execution_count": null,
   "metadata": {},
   "outputs": [],
   "source": []
  },
  {
   "cell_type": "code",
   "execution_count": null,
   "metadata": {},
   "outputs": [],
   "source": []
  },
  {
   "cell_type": "code",
   "execution_count": null,
   "metadata": {},
   "outputs": [],
   "source": []
  },
  {
   "cell_type": "markdown",
   "metadata": {},
   "source": [
    "# Appendix A: Testing Functions"
   ]
  },
  {
   "cell_type": "code",
   "execution_count": 13,
   "metadata": {},
   "outputs": [
    {
     "data": {
      "text/plain": [
       "(2.5, 1.25, 1.118033988749895)"
      ]
     },
     "execution_count": 13,
     "metadata": {},
     "output_type": "execute_result"
    }
   ],
   "source": [
    "#Testing np.nan____\n",
    "a = [1,2,3,np.nan,4]\n",
    "m = np.nanmean(a)\n",
    "v = np.nanvar(np.array(a))\n",
    "s = np.nanstd(np.array(a))\n",
    "m, v, s"
   ]
  },
  {
   "cell_type": "code",
   "execution_count": 14,
   "metadata": {},
   "outputs": [
    {
     "data": {
      "text/plain": [
       "4"
      ]
     },
     "execution_count": 14,
     "metadata": {},
     "output_type": "execute_result"
    }
   ],
   "source": [
    "max(a)"
   ]
  },
  {
   "cell_type": "code",
   "execution_count": null,
   "metadata": {},
   "outputs": [],
   "source": []
  },
  {
   "cell_type": "code",
   "execution_count": null,
   "metadata": {},
   "outputs": [],
   "source": [
    "for i in range(20):\n",
    "    print(expit(i-10))"
   ]
  }
 ],
 "metadata": {
  "kernelspec": {
   "display_name": "Python 3",
   "language": "python",
   "name": "python3"
  },
  "language_info": {
   "codemirror_mode": {
    "name": "ipython",
    "version": 3
   },
   "file_extension": ".py",
   "mimetype": "text/x-python",
   "name": "python",
   "nbconvert_exporter": "python",
   "pygments_lexer": "ipython3",
   "version": "3.6.6"
  }
 },
 "nbformat": 4,
 "nbformat_minor": 2
}
